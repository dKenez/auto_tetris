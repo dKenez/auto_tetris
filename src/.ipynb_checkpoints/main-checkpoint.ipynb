{
 "cells": [
  {
   "cell_type": "markdown",
   "metadata": {},
   "source": [
    "# Auto Tetris\n",
    "## Detecting roof surfaces from satellite images with UNET architecture\n",
    "\n",
    "Stuff"
   ]
  },
  {
   "cell_type": "code",
   "execution_count": 1,
   "metadata": {},
   "outputs": [
    {
     "name": "stdout",
     "output_type": "stream",
     "text": [
      "Sun Dec  4 22:30:13 2022       \n",
      "+-----------------------------------------------------------------------------+\n",
      "| NVIDIA-SMI 520.61.05    Driver Version: 520.61.05    CUDA Version: 11.8     |\n",
      "|-------------------------------+----------------------+----------------------+\n",
      "| GPU  Name        Persistence-M| Bus-Id        Disp.A | Volatile Uncorr. ECC |\n",
      "| Fan  Temp  Perf  Pwr:Usage/Cap|         Memory-Usage | GPU-Util  Compute M. |\n",
      "|                               |                      |               MIG M. |\n",
      "|===============================+======================+======================|\n",
      "|   0  Tesla V100-SXM2...  On   | 00000000:15:00.0 Off |                    0 |\n",
      "| N/A   43C    P0   131W / 300W |  31935MiB / 32768MiB |     71%      Default |\n",
      "|                               |                      |                  N/A |\n",
      "+-------------------------------+----------------------+----------------------+\n",
      "|   1  Tesla V100-SXM2...  On   | 00000000:16:00.0 Off |                    0 |\n",
      "| N/A   42C    P0   225W / 300W |  20897MiB / 32768MiB |     29%      Default |\n",
      "|                               |                      |                  N/A |\n",
      "+-------------------------------+----------------------+----------------------+\n",
      "|   2  Tesla V100-SXM2...  On   | 00000000:3A:00.0 Off |                    0 |\n",
      "| N/A   52C    P0   275W / 300W |  16683MiB / 32768MiB |     99%      Default |\n",
      "|                               |                      |                  N/A |\n",
      "+-------------------------------+----------------------+----------------------+\n",
      "|   3  Tesla V100-SXM2...  On   | 00000000:3B:00.0 Off |                    0 |\n",
      "| N/A   70C    P0   253W / 300W |  24081MiB / 32768MiB |    100%      Default |\n",
      "|                               |                      |                  N/A |\n",
      "+-------------------------------+----------------------+----------------------+\n",
      "                                                                               \n",
      "+-----------------------------------------------------------------------------+\n",
      "| Processes:                                                                  |\n",
      "|  GPU   GI   CI        PID   Type   Process name                  GPU Memory |\n",
      "|        ID   ID                                                   Usage      |\n",
      "|=============================================================================|\n",
      "|    0   N/A  N/A     27901      C   ...40/Thesis/venv/bin/python      574MiB |\n",
      "|    0   N/A  N/A     32692      C   ...40/Thesis/venv/bin/python    31358MiB |\n",
      "|    1   N/A  N/A     18499      C   python3                         16484MiB |\n",
      "|    1   N/A  N/A     19170      C   python                           4410MiB |\n",
      "|    2   N/A  N/A     25828      C   ...37477/s183995/bin/python3    16680MiB |\n",
      "|    3   N/A  N/A      3502      C   ..._tetris/tetris/bin/python     6438MiB |\n",
      "|    3   N/A  N/A     25773      C   python                           1196MiB |\n",
      "|    3   N/A  N/A     27157      C   python3                         16442MiB |\n",
      "+-----------------------------------------------------------------------------+\n"
     ]
    }
   ],
   "source": [
    "# Check for Nvidia gpus\n",
    "! nvidia-smi"
   ]
  },
  {
   "cell_type": "markdown",
   "metadata": {},
   "source": [
    "### Data Augmentation"
   ]
  },
  {
   "cell_type": "code",
   "execution_count": 2,
   "metadata": {},
   "outputs": [],
   "source": [
    "from data_augmentation import load_data, create_new_data_dirs, augment_data\n",
    "from utils import del_new_data\n",
    "# https://dev.to/rohitfarmer/how-to-run-jupyter-notebook-in-an-interactive-node-on-a-high-performance-computer-hpc-27mg\n",
    "from pathlib import Path\n",
    "import torch"
   ]
  },
  {
   "cell_type": "code",
   "execution_count": 3,
   "metadata": {},
   "outputs": [
    {
     "data": {
      "text/plain": [
       "PosixPath('/zhome/ac/d/174101/auto_tetris')"
      ]
     },
     "execution_count": 3,
     "metadata": {},
     "output_type": "execute_result"
    }
   ],
   "source": [
    "base_path = Path.cwd().parent\n",
    "base_path"
   ]
  },
  {
   "cell_type": "code",
   "execution_count": 4,
   "metadata": {},
   "outputs": [
    {
     "name": "stdout",
     "output_type": "stream",
     "text": [
      "len(train_x)=1911 - len(train_y)=1911\n",
      "len(val_x)=409 - len(val_y)=409\n",
      "len(test_x)=410 - len(test_y)=410\n"
     ]
    }
   ],
   "source": [
    "(train_x, train_y), (val_x, val_y), (test_x, test_y) = load_data(\n",
    "    base_path,\n",
    "    split=(70, 15, 15),\n",
    "    shuffle=True,\n",
    "    # max_items=200  # how many images to create dataset from, default is all images\n",
    ")\n",
    "print(f\"{len(train_x)=} - {len(train_y)=}\")\n",
    "print(f\"{len(val_x)=} - {len(val_y)=}\")\n",
    "print(f\"{len(test_x)=} - {len(test_y)=}\")"
   ]
  },
  {
   "cell_type": "code",
   "execution_count": 5,
   "metadata": {},
   "outputs": [
    {
     "name": "stdout",
     "output_type": "stream",
     "text": [
      "Deleted new_data directory\n"
     ]
    },
    {
     "name": "stderr",
     "output_type": "stream",
     "text": [
      "100%|███████████████████████████████████████| 1911/1911 [00:24<00:00, 77.64it/s]\n",
      "100%|█████████████████████████████████████████| 409/409 [00:05<00:00, 78.02it/s]\n",
      "100%|█████████████████████████████████████████| 410/410 [00:04<00:00, 86.81it/s]\n"
     ]
    }
   ],
   "source": [
    "# Create folders for the new data in project root\n",
    "del_new_data()\n",
    "create_new_data_dirs(base_path)\n",
    "\n",
    "# data augmentation\n",
    "augment_data(\n",
    "    train_x,\n",
    "    train_y,\n",
    "    base_path / \"data\",\n",
    "    base_path / \"new_data/train\",\n",
    "    augment=False,\n",
    ")\n",
    "augment_data(\n",
    "    val_x,\n",
    "    val_y,\n",
    "    base_path / \"data\",\n",
    "    base_path / \"new_data/val\",\n",
    "    augment=False\n",
    ")\n",
    "augment_data(\n",
    "    test_x,\n",
    "    test_y,\n",
    "    base_path / \"data\",\n",
    "    base_path / \"new_data/test\",\n",
    "    augment=False,\n",
    ")"
   ]
  },
  {
   "cell_type": "markdown",
   "metadata": {},
   "source": [
    "### Model setup"
   ]
  },
  {
   "cell_type": "code",
   "execution_count": 85,
   "metadata": {},
   "outputs": [
    {
     "name": "stdout",
     "output_type": "stream",
     "text": [
      "Enabling notebook extension jupyter-js-widgets/extension...\r\n",
      "      - Validating: \u001b[32mOK\u001b[0m\r\n"
     ]
    }
   ],
   "source": [
    "! jupyter nbextension enable --py widgetsnbextension"
   ]
  },
  {
   "cell_type": "code",
   "execution_count": 86,
   "metadata": {},
   "outputs": [],
   "source": [
    "from utils import seeding, create_dir, sort_path_list\n",
    "from Hyperparams import Hyperparams\n",
    "from data import DriveDataset\n",
    "from unet import build_unet\n",
    "from torch.utils.data import DataLoader\n",
    "from pathlib import Path\n",
    "import torch"
   ]
  },
  {
   "cell_type": "code",
   "execution_count": 87,
   "metadata": {},
   "outputs": [
    {
     "data": {
      "text/plain": [
       "PosixPath('/zhome/ac/d/174101/auto_tetris')"
      ]
     },
     "execution_count": 87,
     "metadata": {},
     "output_type": "execute_result"
    }
   ],
   "source": [
    "seeding(42)\n",
    "base_path = Path.cwd().parent\n",
    "base_path"
   ]
  },
  {
   "cell_type": "code",
   "execution_count": 88,
   "metadata": {},
   "outputs": [
    {
     "name": "stdout",
     "output_type": "stream",
     "text": [
      "Dataset size:\n",
      "Train: 1854 - Valid: 406\n"
     ]
    }
   ],
   "source": [
    "# Load train dataset\n",
    "train_x = list((base_path / \"new_data/train/images/\").glob(\"*.jpeg\"))\n",
    "train_y = list((base_path / \"new_data/train/masks/\").glob(\"*.jpeg\"))\n",
    "\n",
    "# Sort dataset, so images and masks match\n",
    "train_x.sort(key=sort_path_list)\n",
    "train_y.sort(key=sort_path_list)\n",
    "\n",
    "# Load test dataset\n",
    "val_x = list((base_path / \"new_data/val/images/\").glob(\"*.jpeg\"))\n",
    "val_y = list((base_path / \"new_data/val/masks/\").glob(\"*.jpeg\"))\n",
    "\n",
    "# Sort dataset, so images and masks match\n",
    "val_x.sort(key=sort_path_list)\n",
    "val_y.sort(key=sort_path_list)\n",
    "\n",
    "data_str = f\"Dataset size:\\nTrain: {len(train_x)} - Valid: {len(val_x)}\"\n",
    "print(data_str)"
   ]
  },
  {
   "cell_type": "code",
   "execution_count": 89,
   "metadata": {},
   "outputs": [],
   "source": [
    "# Directories\n",
    "create_dir(base_path / \"checkpoints\")\n",
    "checkpoint_path = base_path / \"checkpoints/checkpoint.pth\""
   ]
  },
  {
   "cell_type": "code",
   "execution_count": 90,
   "metadata": {},
   "outputs": [],
   "source": [
    "# Hyperparameters\n",
    "\n",
    "hyperparams = Hyperparams(base_path / \"train_conf.toml\")\n",
    "\n",
    "H = hyperparams.image_size\n",
    "W = hyperparams.image_size\n",
    "size = (H, W)\n",
    "\n",
    "batch_size = hyperparams.batch_size\n",
    "num_epochs = hyperparams.epochs\n",
    "lr = hyperparams.lr\n",
    "layers = hyperparams.layers\n",
    "early_stopping_patience = 10\n",
    "\n",
    "# Dataset and Dataloader\n",
    "train_dataset = DriveDataset(train_x, train_y)\n",
    "val_dataset = DriveDataset(val_x, val_y)\n",
    "\n",
    "train_loader = DataLoader(\n",
    "    dataset=train_dataset, batch_size=batch_size, shuffle=True, num_workers=2\n",
    ")\n",
    "\n",
    "val_loader = DataLoader(\n",
    "    dataset=val_dataset, batch_size=batch_size, shuffle=False, num_workers=2\n",
    ")\n",
    "\n",
    "device = torch.device('cuda' if torch.cuda.is_available() else 'cpu')\n",
    "model = build_unet(layers=layers)\n",
    "model = model.to(device)\n",
    "\n",
    "\n",
    "# optimizer = hyperparams.optimizer(model.parameters(), lr=hyperparams.lr)\n",
    "\n",
    "optimizer = hyperparams.optimizer_class(model.parameters(), lr=lr)\n",
    "scheduler = torch.optim.lr_scheduler.ReduceLROnPlateau(optimizer, 'min', patience=5, verbose=True)\n",
    "loss_fn = hyperparams.loss_fn"
   ]
  },
  {
   "cell_type": "markdown",
   "metadata": {},
   "source": [
    "### Training"
   ]
  },
  {
   "cell_type": "code",
   "execution_count": 91,
   "metadata": {},
   "outputs": [],
   "source": [
    "from utils import epoch_time\n",
    "import time\n",
    "from train import train, evaluate\n",
    "import pandas as pd\n",
    "import os\n",
    "from datetime import datetime\n",
    "import json\n",
    "from IPython.display import clear_output"
   ]
  },
  {
   "cell_type": "code",
   "execution_count": 92,
   "metadata": {},
   "outputs": [],
   "source": [
    "#create DataFrame\n",
    "trained_models_df = pd.DataFrame(columns=[\n",
    "    'filename',\n",
    "    'train_start_datetime',\n",
    "    'batch_size',\n",
    "    'lr',\n",
    "    'layers',\n",
    "    'optimizer',\n",
    "    'loss',\n",
    "    'trained_epochs',\n",
    "    'last_saved_epoch',\n",
    "    'best_val_loss',\n",
    "    'early_stopping',\n",
    "    'epoch_train_losses',\n",
    "    'epoch_val_losses',\n",
    "    'epoch_train_times',\n",
    "    'total_train_time',\n",
    "])\n",
    "\n",
    "create_dir(base_path / \"models\")\n",
    "TRAINED_MODELS_CSV = base_path / \"models/trained_models.csv\"\n",
    "\n",
    "isExist = os.path.exists(TRAINED_MODELS_CSV)\n",
    "if not isExist:\n",
    "    trained_models_df.to_csv(TRAINED_MODELS_CSV)\n",
    "    print(\"Created trained_models.csv\")"
   ]
  },
  {
   "cell_type": "code",
   "execution_count": 93,
   "metadata": {},
   "outputs": [
    {
     "data": {
      "text/plain": [
       "'2022-12-05 02:05:39.243674'"
      ]
     },
     "execution_count": 93,
     "metadata": {},
     "output_type": "execute_result"
    }
   ],
   "source": [
    "train_start_datetime = datetime.now()\n",
    "str(train_start_datetime)"
   ]
  },
  {
   "cell_type": "code",
   "execution_count": 94,
   "metadata": {},
   "outputs": [
    {
     "name": "stdout",
     "output_type": "stream",
     "text": [
      "Epoch: 40 | Epoch Time: 0m 14s\n",
      "\tTrain Loss: 0.118\n",
      "\t Val. Loss: 0.317\n",
      "\n",
      "Training completed:\n",
      "\tEpochs: \t40\n",
      "\tTraining Time: \t13m 29s\n",
      "\n"
     ]
    }
   ],
   "source": [
    "# Training the model\n",
    "\n",
    "\n",
    "train_start_datetime = datetime.now()\n",
    "\n",
    "train_losses = []\n",
    "val_losses = []\n",
    "lr_epochs = []\n",
    "\n",
    "epoch_times = []\n",
    "\n",
    "trained_epochs = 0\n",
    "last_saved_epoch = 0\n",
    "early_stopping = False\n",
    "\n",
    "best_val_loss = float(\"inf\")\n",
    "\n",
    "train_start = time.time()\n",
    "for epoch in range(num_epochs):\n",
    "    start_time = time.time()\n",
    "\n",
    "    train_loss = train(model, train_loader, optimizer, loss_fn, device)\n",
    "    val_loss = evaluate(model, val_loader, loss_fn, device)\n",
    "\n",
    "    \"\"\" Saving the model \"\"\"\n",
    "    if val_loss < best_val_loss:\n",
    "        torch.save(model.state_dict(), checkpoint_path)\n",
    "\n",
    "    if epoch % 5 == 4:\n",
    "        clear_output(wait=True)\n",
    "        \n",
    "    if val_loss < best_val_loss:\n",
    "        data_str = f\"Valid loss improved from {best_val_loss:2.4f} to {val_loss:2.4f}. Saving checkpoint: {checkpoint_path}\"\n",
    "        print(data_str)\n",
    "        \n",
    "        best_val_loss = val_loss\n",
    "        last_saved_epoch = epoch+1\n",
    "\n",
    "    end_time = time.time()\n",
    "    epoch_mins, epoch_secs = epoch_time(start_time, end_time)\n",
    "    trained_epochs = epoch+1\n",
    "    data_str = f'Epoch: {epoch+1:02} | Epoch Time: {epoch_mins}m {epoch_secs}s\\n'\n",
    "    data_str += f'\\tTrain Loss: {train_loss:.3f}\\n'\n",
    "    data_str += f'\\t Val. Loss: {val_loss:.3f}\\n'\n",
    "    print(data_str)\n",
    "\n",
    "    train_losses.append(train_loss)\n",
    "    val_losses.append(val_loss)\n",
    "    epoch_times.append(end_time - start_time)\n",
    "    lr_epochs.append(lr)\n",
    "\n",
    "\n",
    "    if trained_epochs - last_saved_epoch >= early_stopping_patience:\n",
    "        early_stopping = True\n",
    "        break\n",
    "\n",
    "\n",
    "train_end = time.time()\n",
    "train_mins, train_secs = epoch_time(train_start, train_end)\n",
    "data_str = f'Training completed:\\n'\n",
    "data_str += f'\\tEpochs: \\t{trained_epochs}\\n'\n",
    "data_str += f'\\tTraining Time: \\t{train_mins}m {train_secs}s\\n'\n",
    "# data_str += f'\\tTrain Loss: \\t{train_loss:.3f}\\n'\n",
    "# data_str += f'\\t Val. Loss: \\t{val_loss:.3f}\\n'\n",
    "print(data_str)"
   ]
  },
  {
   "cell_type": "code",
   "execution_count": 100,
   "metadata": {},
   "outputs": [],
   "source": [
    "dict_to_append = {\n",
    "    'filename': [hyperparams.model_name()],\n",
    "    'train_start_datetime': [str(train_start_datetime)],\n",
    "    'batch_size': [hyperparams.batch_size],\n",
    "    'lr': [hyperparams.lr],\n",
    "    'layers': [hyperparams.layers],\n",
    "    'optimizer': [hyperparams.optimizer],\n",
    "    'loss': [hyperparams.loss],\n",
    "    'trained_epochs': [trained_epochs],\n",
    "    'last_saved_epoch': [last_saved_epoch],\n",
    "    'best_val_loss': [best_val_loss],\n",
    "    'early_stopping': [early_stopping],\n",
    "    'epoch_train_losses': [json.dumps(train_losses)],\n",
    "    'epoch_val_losses': [json.dumps(val_losses)],\n",
    "    'epoch_train_times': [json.dumps(epoch_times)],\n",
    "    'total_train_time': [train_end - train_start],\n",
    "}"
   ]
  },
  {
   "cell_type": "code",
   "execution_count": 96,
   "metadata": {},
   "outputs": [],
   "source": [
    "new_row = pd.DataFrame.from_dict(dict_to_append)\n",
    "# trained_models_df = pd.concat([trained_models_df, new_row], ignore_index=True)\n",
    "new_row.to_csv(TRAINED_MODELS_CSV, mode='a', header=False)"
   ]
  },
  {
   "cell_type": "code",
   "execution_count": 97,
   "metadata": {},
   "outputs": [
    {
     "name": "stdout",
     "output_type": "stream",
     "text": [
      "Saved model to /zhome/ac/d/174101/auto_tetris/models/roof_surface_model_B40_E100_lr1.000e-02_L4_SGD_Dice.pth\n"
     ]
    }
   ],
   "source": [
    "model_save_path = base_path / \"models\" / hyperparams.model_name()\n",
    "\n",
    "isExist = os.path.exists(model_save_path)\n",
    "if not isExist:\n",
    "    torch.save(model.state_dict(), model_save_path)\n",
    "    print(f\"Saved model to {model_save_path}\")\n",
    "else:\n",
    "    print(f\"WARNING: filename already exists, couldn't save {model_save_path}\")"
   ]
  },
  {
   "cell_type": "code",
   "execution_count": 98,
   "metadata": {},
   "outputs": [],
   "source": [
    "def plot_training(training_losses,\n",
    "                  validation_losses,\n",
    "                  gaussian=True,\n",
    "                  sigma=2,\n",
    "                  figsize=(8, 6)\n",
    "                  ):\n",
    "    \"\"\"\n",
    "    Returns a loss plot with training loss, validation loss\n",
    "    \"\"\"\n",
    "\n",
    "    import matplotlib.pyplot as plt\n",
    "    from matplotlib import gridspec\n",
    "    from scipy.ndimage import gaussian_filter\n",
    "\n",
    "    list_len = len(training_losses)\n",
    "    x_range = list(range(1, list_len + 1))  # number of x values\n",
    "\n",
    "    fig = plt.figure(figsize=figsize)\n",
    "    grid = gridspec.GridSpec(ncols=1, nrows=1, figure=fig)\n",
    "\n",
    "    subfig1 = fig.add_subplot(grid[0])\n",
    "\n",
    "    subfigures = fig.get_axes()\n",
    "\n",
    "    for i, subfig in enumerate(subfigures, start=1):\n",
    "        subfig.spines['top'].set_visible(False)\n",
    "        subfig.spines['right'].set_visible(False)\n",
    "\n",
    "    if gaussian:\n",
    "        training_losses_gauss = gaussian_filter(training_losses, sigma=sigma)\n",
    "        validation_losses_gauss = gaussian_filter(validation_losses, sigma=sigma)\n",
    "\n",
    "        linestyle_original = '.'\n",
    "        color_original_train = 'lightcoral'\n",
    "        color_original_valid = 'lightgreen'\n",
    "        color_smooth_train = 'red'\n",
    "        color_smooth_valid = 'green'\n",
    "        alpha = 0.25\n",
    "    else:\n",
    "        linestyle_original = '-'\n",
    "        color_original_train = 'red'\n",
    "        color_original_valid = 'green'\n",
    "        alpha = 1.0\n",
    "\n",
    "    # Subfig 1\n",
    "    subfig1.plot(x_range, training_losses, linestyle_original, color=color_original_train, label='Training',\n",
    "                 alpha=alpha)\n",
    "    subfig1.plot(x_range, validation_losses, linestyle_original, color=color_original_valid, label='Validation',\n",
    "                 alpha=alpha)\n",
    "    if gaussian:\n",
    "        subfig1.plot(x_range, training_losses_gauss, '-', color=color_smooth_train, label='Training', alpha=0.75)\n",
    "        subfig1.plot(x_range, validation_losses_gauss, '-', color=color_smooth_valid, label='Validation', alpha=0.75)\n",
    "    subfig1.title.set_text('Training & validation loss')\n",
    "    subfig1.set_xlabel('Epoch')\n",
    "    subfig1.set_ylabel('Loss')\n",
    "\n",
    "    subfig1.legend(loc='upper right')\n",
    "\n",
    "\n",
    "    return fig"
   ]
  },
  {
   "cell_type": "code",
   "execution_count": 99,
   "metadata": {},
   "outputs": [
    {
     "data": {
      "image/png": "[encoded data removed]",
      "text/plain": [
       "<Figure size 400x400 with 1 Axes>"
      ]
     },
     "metadata": {},
     "output_type": "display_data"
    }
   ],
   "source": [
    "import matplotlib.pyplot as plt\n",
    "fig = plot_training(train_losses, val_losses, gaussian=True, sigma=1, figsize=(4,4))\n",
    "plt.savefig(str(hyperparams.model_name())+'.jpg')"
   ]
  },
  {
   "cell_type": "code",
   "execution_count": null,
   "metadata": {},
   "outputs": [],
   "source": []
  }
 ],
 "metadata": {
  "kernelspec": {
   "display_name": "Python 3 (ipykernel)",
   "language": "python",
   "name": "python3"
  },
  "language_info": {
   "codemirror_mode": {
    "name": "ipython",
    "version": 3
   },
   "file_extension": ".py",
   "mimetype": "text/x-python",
   "name": "python",
   "nbconvert_exporter": "python",
   "pygments_lexer": "ipython3",
   "version": "3.8.4"
  },
  "vscode": {
   "interpreter": {
    "hash": "767d51c1340bd893661ea55ea3124f6de3c7a262a8b4abca0554b478b1e2ff90"
   }
  }
 },
 "nbformat": 4,
 "nbformat_minor": 2
}
